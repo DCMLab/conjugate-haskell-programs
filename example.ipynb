{
 "cells": [
  {
   "cell_type": "code",
   "execution_count": 1,
   "id": "a2c0ccbc",
   "metadata": {},
   "outputs": [],
   "source": [
    ":ext TemplateHaskell DataKinds DeriveGeneric TypeApplications ScopedTypeVariables\n",
    ":ext UndecidableInstances FlexibleContexts PartialTypeSignatures"
   ]
  },
  {
   "cell_type": "code",
   "execution_count": 2,
   "id": "4cf31223",
   "metadata": {},
   "outputs": [],
   "source": [
    "import           Inference.Conjugate\n",
    "\n",
    "import           Control.Monad                  ( foldM )\n",
    "import           Data.Dynamic                   ( Dynamic\n",
    "                                                , toDyn\n",
    "                                                , fromDynamic\n",
    "                                                , Typeable\n",
    "                                                )\n",
    "import qualified Data.Sequence                 as S\n",
    "import qualified Data.Vector                   as V\n",
    "import           GHC.Generics\n",
    "import           Lens.Micro.TH                  ( makeLenses )\n",
    "import           System.Random.MWC.Probability"
   ]
  },
  {
   "cell_type": "markdown",
   "id": "54f5b22f",
   "metadata": {},
   "source": [
    "# Conjugate Inference with Probabilistic Programming\n",
    "\n",
    "## Bayesian Models\n",
    "\n",
    "Bayesian modeling specifies a domain as a probability distribution that links observed ($x$) and latent ($z$) variables.\n",
    "With Bayesian inference, we try to obtain the *posterior distribution* of the latent variables given the observations:\n",
    "$$ p(z \\mid x) = \\dfrac{p(x, z)}{p(z)} $$\n",
    "\n",
    "Often, the relationship between the latent and observed variables is assumed to be a generative process,\n",
    "by which the observations are \"generated\" based on the latent variables.\n",
    "In this case, the model factorizes into a *prior distribution* over latent variables $p(z)$ and a likelihood $p(x \\mid z)$.\n",
    "$$ p(x, z) = p(x \\mid z) p(z) $$\n",
    "\n",
    "If we have many observations generated (independently) by the same process,\n",
    "some latent variables can be *global* (i.e., they affect all datapoints in the same way),\n",
    "while others are *local* to each datapoint:\n",
    "$$ p(x, z) = \\prod_i \\left( p(x_i \\mid z_i^l, z^g) p(z_i^l \\mid z^g) \\right) p(z^g) $$\n",
    "A common case is that the global variables are parameters of the probability distributions used in the likelihood.\n",
    "\n",
    "## Conjugate Priors\n",
    "\n",
    "[Wikipedia](https://en.wikipedia.org/wiki/Conjugate_prior)\n",
    "\n",
    "When the posterior of a latent variable comes from the same family of distributions as its prior,\n",
    "then the posterior and prior are called *conjugate*.\n",
    "Since the posterior is a result of the prior and the likelihood,\n",
    "conjugacy depends on the combination of both.\n",
    "For example, a beta distribution is a conjugate prior to a Bernoulli likelihood:\n",
    "- prior: $\\theta \\sim Beta(\\alpha, \\beta)$\n",
    "- likelihood: $\\forall i: x_i \\sim Bernoulli(p)$\n",
    "- posterior: $\\theta \\mid x \\sim Beta(\\alpha', \\beta')$\n",
    "\n",
    "In this model, each $x_i$ is a local observed variable, while $\\theta$ is a global latent variable\n",
    "(there are no local laten variables).\n",
    "Here, as in many other cases, the posterior distribution can be obtained analytically:\n",
    "- $\\alpha' = \\alpha + \\sum_i x_i = \\alpha + s$\n",
    "- $\\beta' = \\beta + \\sum_i (1 - x_i) = \\beta + f$\n",
    "\n",
    "for $s$ successes and $f$ failures.\n",
    "\n",
    "## Locally Conjugate Models\n",
    "\n",
    "If we have a model that factorizes into a prior distribution over independent global variables\n",
    "and a likelihood that uses these global variables directly in a sequence of observable choices\n",
    "that form conjugate pairs with the priors,\n",
    "then the inference process can be performed analytically.\n",
    "\n",
    "Example:\n",
    "\n",
    "The global parameters consist of a coin probability $\\theta$\n",
    "and two categorical probability vectors $cat1$ and $cat2$.\n",
    "They are drawn independently from the following priors:\n",
    "- $\\theta \\sim Beta(0.5, 0.5)$\n",
    "- $cat1 \\sim Dirichlet_3(0.5)$\n",
    "- $cat2 \\sim Dirichlet_3(0.5)$\n",
    "\n",
    "The likelihood uses these probabilities to generate the following observed variables:\n",
    "- $coin \\sim Bernoulli(\\theta)$\n",
    "- if $coin = 1$\n",
    "  - then $category \\sim Categorical_3(cat1)$\n",
    "  - else $category \\sim Categorical_3(cat2)$\n",
    "  \n",
    "Thus, for every execution of the generative process described in the likelihood,\n",
    "we observe all values sampled in the process, which allows us to re-trace it,\n",
    "for example $coin = 1, category = 0$.\n",
    "\n",
    "# Expressing a Model in Code\n",
    "\n",
    "## Global Variables and Priors\n",
    "\n",
    "Since all variables in the prior are independent,\n",
    "we can express it through a collection of variables with individual priors,\n",
    "e.g. a record:"
   ]
  },
  {
   "cell_type": "code",
   "execution_count": 3,
   "id": "69987530",
   "metadata": {},
   "outputs": [],
   "source": [
    "-- An example of a record that describes global variables.\n",
    "-- It can be instantiated with different type constructors for 'f' (kind @* -> *@),\n",
    "-- which allows it to represent both the hyperparameters and parameters of the model.\n",
    "data ExampleParams f =\n",
    "  ExampleParams { _epTheta :: f Beta\n",
    "                , _epCat1 :: f (Dirichlet 3)\n",
    "                , _epCat2 :: f (Dirichlet 3)\n",
    "                }\n",
    "  deriving (Generic)"
   ]
  },
  {
   "cell_type": "markdown",
   "id": "51f2b269",
   "metadata": {},
   "source": [
    "Let's add a bit of extra code to make it easier to work with this record:"
   ]
  },
  {
   "cell_type": "code",
   "execution_count": 4,
   "id": "67a9dcd8",
   "metadata": {},
   "outputs": [],
   "source": [
    "-- We need lenses to the fields of ExampleParams, which can be generated automatically.\n",
    "makeLenses ''ExampleParams\n",
    "\n",
    "-- The Show instance for ExampleParams needs to be standalone\n",
    "-- because of the Show (f p l) constraints that GHC can't figure out on its own.\n",
    "-- Here we specify it manually for nicer output.\n",
    "instance ( Show (f Beta)\n",
    "         , Show (f (Dirichlet 3)))\n",
    "         => Show (ExampleParams f) where\n",
    "  show (ExampleParams p cat1 cat2) =\n",
    "    \"ExampleParams\"\n",
    "      <> \"\\n  epTheta = \"\n",
    "      <> show p\n",
    "      <> \"\\n  epCat1  = \"\n",
    "      <> show cat1\n",
    "      <> \"\\n  epCat2  = \"\n",
    "      <> show cat2"
   ]
  },
  {
   "cell_type": "markdown",
   "id": "e92288f6",
   "metadata": {},
   "source": [
    "This record can be instantiated in different ways, e.g. to represent the values of the global variables:"
   ]
  },
  {
   "cell_type": "code",
   "execution_count": 5,
   "id": "5f2795c6",
   "metadata": {},
   "outputs": [
    {
     "data": {
      "text/plain": [
       "ExampleParams\n",
       "  epTheta = ProbsRep {runProbs = 0.7}\n",
       "  epCat1  = ProbsRep {runProbs = [0.3,0.1,0.6]}\n",
       "  epCat2  = ProbsRep {runProbs = [0.1,0.8,0.1]}"
      ]
     },
     "metadata": {},
     "output_type": "display_data"
    }
   ],
   "source": [
    "-- newtype ProbsRep p = ProbsRep { runProbs :: Probs (AsPrior p)}\n",
    "\n",
    "exampleProbs :: ExampleParams ProbsRep\n",
    "exampleProbs = ExampleParams { _epTheta = ProbsRep 0.7\n",
    "                             , _epCat1  = ProbsRep $ V.fromList [0.3, 0.1, 0.6]\n",
    "                             , _epCat2  = ProbsRep $ V.fromList [0.1, 0.8, 0.1]\n",
    "                             }\n",
    "\n",
    "exampleProbs"
   ]
  },
  {
   "cell_type": "markdown",
   "id": "8fccc570",
   "metadata": {},
   "source": [
    "... or the parameters of the priors:"
   ]
  },
  {
   "cell_type": "code",
   "execution_count": 6,
   "id": "08f6ce59",
   "metadata": {},
   "outputs": [
    {
     "data": {
      "text/plain": [
       "ExampleParams\n",
       "  epTheta = HyperRep {runHyper = (0.5,0.5)}\n",
       "  epCat1  = HyperRep {runHyper = [0.5,0.5,0.5]}\n",
       "  epCat2  = HyperRep {runHyper = [0.5,0.5,0.5]}"
      ]
     },
     "metadata": {},
     "output_type": "display_data"
    }
   ],
   "source": [
    "-- newtype HyperRep p = HyperRep { runHyper :: Hyper (AsPrior p) }\n",
    "\n",
    "examplePrior :: ExampleParams HyperRep\n",
    "examplePrior = ExampleParams { _epTheta = HyperRep (0.5, 0.5)\n",
    "                              , _epCat1  = HyperRep $ V.fromList [0.5, 0.5, 0.5]\n",
    "                              , _epCat2  = HyperRep $ V.fromList [0.5, 0.5, 0.5]\n",
    "                              }\n",
    "\n",
    "examplePrior"
   ]
  },
  {
   "cell_type": "markdown",
   "id": "15c243b5",
   "metadata": {},
   "source": [
    "The two helper types `ProbsRep` and `HyperRep` instantiate the fields of the record with the appropriate types\n",
    "for the support and the parameters of the prior distribution, respectively.\n",
    "These are defined as type-level functions on the distribution types, e.g.:\n",
    "```haskell\n",
    "Hyper (AsPrior Beta) = Params  Beta = (Double, Double)\n",
    "Probs (AsPrior Beta) = Support Beta = Double\n",
    "```\n",
    "\n",
    "For standard priors such as the Jeffreys prior, we can automatically generate the corresponding values\n",
    "using the `Generics` instance of `ExampleParams`:"
   ]
  },
  {
   "cell_type": "code",
   "execution_count": 7,
   "id": "d74fe07d",
   "metadata": {},
   "outputs": [
    {
     "data": {
      "text/plain": [
       "ExampleParams\n",
       "  epTheta = HyperRep {runHyper = (0.5,0.5)}\n",
       "  epCat1  = HyperRep {runHyper = [0.5,0.5,0.5]}\n",
       "  epCat2  = HyperRep {runHyper = [0.5,0.5,0.5]}"
      ]
     },
     "metadata": {},
     "output_type": "display_data"
    }
   ],
   "source": [
    "-- jeffreysPrior :: forall a. Jeffreys a => Hyper a\n",
    "prior = jeffreysPrior @ExampleParams\n",
    "prior"
   ]
  },
  {
   "cell_type": "markdown",
   "id": "1e7ec297",
   "metadata": {},
   "source": [
    "Similarly, we can generically sample values for the global variables from a given prior:"
   ]
  },
  {
   "cell_type": "code",
   "execution_count": 8,
   "id": "58e1297a",
   "metadata": {},
   "outputs": [
    {
     "data": {
      "text/plain": [
       "ExampleParams\n",
       "  epTheta = ProbsRep {runProbs = 6.374331018604273e-4}\n",
       "  epCat1  = ProbsRep {runProbs = [0.10712072138983836,0.5807054554863914,0.31217382312377034]}\n",
       "  epCat2  = ProbsRep {runProbs = [8.153175746581849e-3,0.9606048595216943,3.124196473172396e-2]}"
      ]
     },
     "metadata": {},
     "output_type": "display_data"
    }
   ],
   "source": [
    "-- create a random generator\n",
    "gen <- createSystemRandom\n",
    "\n",
    "-- sample global variables from the prior\n",
    "probs <- sample (sampleProbs @ExampleParams prior) gen\n",
    "probs"
   ]
  },
  {
   "cell_type": "markdown",
   "id": "02eb322a",
   "metadata": {},
   "source": [
    "## Likelihood\n",
    "\n",
    "The likelihood can be a more complex process than the prior (in which all variables are independent),\n",
    "so we express it as a probabilistic program.\n",
    "This program is polymorphic, so it can be run by different \"interpreters\" for different purposes.\n",
    "\n",
    "The key function here is `sampleValue`, which takes a distribution and a lens into the global record.\n",
    "When generating samples, this lens is used to obtain the value of the global variable.\n",
    "During inference, it is used to update the prior into the posterior."
   ]
  },
  {
   "cell_type": "code",
   "execution_count": 9,
   "id": "82d223d6",
   "metadata": {},
   "outputs": [],
   "source": [
    "-- The likelihood of the example model, described as a probabilistic program.\n",
    "-- 'm' is the type variable that stands for the interpreter the program is run with.\n",
    "exampleLk :: _ => RandomInterpreter m ExampleParams => m Int\n",
    "exampleLk = do\n",
    "  coin <- sampleValue Bernoulli epTheta\n",
    "  sampleValue (Categorical @3) $ if coin then epCat1 else epCat2"
   ]
  },
  {
   "cell_type": "markdown",
   "id": "9f438a90",
   "metadata": {},
   "source": [
    "Using the global variables sampled above, we can sample a datapoint from this likelihood:"
   ]
  },
  {
   "cell_type": "code",
   "execution_count": 10,
   "id": "0397749a",
   "metadata": {},
   "outputs": [
    {
     "data": {
      "text/plain": [
       "(1,Trace {runTrace = fromList [<<Bool>>,<<Int>>]})"
      ]
     },
     "metadata": {},
     "output_type": "display_data"
    }
   ],
   "source": [
    "(result, trace) <- sampleTrace probs exampleLk gen\n",
    "(result, trace)"
   ]
  },
  {
   "cell_type": "markdown",
   "id": "5564d883",
   "metadata": {},
   "source": [
    "Since the trace is a bit mysterious like this, let's use the likelihood program again to display the trace with a bit more contextual information:"
   ]
  },
  {
   "cell_type": "code",
   "execution_count": 11,
   "id": "8c649e39",
   "metadata": {},
   "outputs": [
    {
     "data": {
      "text/plain": [
       "trace:"
      ]
     },
     "metadata": {},
     "output_type": "display_data"
    },
    {
     "data": {
      "text/plain": [
       "Sampled value False from a Bernoulli.\n",
       "Sampled value 1 from a Categorical 3."
      ]
     },
     "metadata": {},
     "output_type": "display_data"
    }
   ],
   "source": [
    "putStrLn \"trace:\"\n",
    "printTrace trace exampleLk"
   ]
  },
  {
   "cell_type": "markdown",
   "id": "d302e444",
   "metadata": {},
   "source": [
    "Similarly, we can evaluate the probability of the trace:"
   ]
  },
  {
   "cell_type": "code",
   "execution_count": 12,
   "id": "08995d0f",
   "metadata": {},
   "outputs": [
    {
     "data": {
      "text/plain": [
       "Just (-4.0829767272934546e-2)"
      ]
     },
     "metadata": {},
     "output_type": "display_data"
    }
   ],
   "source": [
    "logp = snd <$> evalTraceLogP probs trace exampleLk\n",
    "logp"
   ]
  },
  {
   "cell_type": "markdown",
   "id": "b0276055",
   "metadata": {},
   "source": [
    "## Inference\n",
    "\n",
    "We can \"observe\" a trace to update the prior parameters to the posterior using again our likelihood program."
   ]
  },
  {
   "cell_type": "code",
   "execution_count": 13,
   "id": "57161d43",
   "metadata": {},
   "outputs": [
    {
     "data": {
      "text/plain": [
       "Just ExampleParams\n",
       "  epTheta = HyperRep {runHyper = (0.5,1.5)}\n",
       "  epCat1  = HyperRep {runHyper = [0.5,0.5,0.5]}\n",
       "  epCat2  = HyperRep {runHyper = [0.5,1.5,0.5]}"
      ]
     },
     "metadata": {},
     "output_type": "display_data"
    }
   ],
   "source": [
    "getPosterior prior trace exampleLk"
   ]
  },
  {
   "cell_type": "markdown",
   "id": "12d3c685",
   "metadata": {},
   "source": [
    "If we want to do the same with a set of observations from a dataset,\n",
    "we have to express each observation as a trace:"
   ]
  },
  {
   "cell_type": "code",
   "execution_count": 14,
   "id": "a3b78c49",
   "metadata": {},
   "outputs": [
    {
     "data": {
      "text/plain": [
       "ExampleParams\n",
       "  epTheta = HyperRep {runHyper = (3.5,5.5)}\n",
       "  epCat1  = HyperRep {runHyper = [3.5,0.5,0.5]}\n",
       "  epCat2  = HyperRep {runHyper = [0.5,3.5,2.5]}"
      ]
     },
     "metadata": {},
     "output_type": "display_data"
    }
   ],
   "source": [
    "observations =\n",
    "        [ Trace $ S.fromList [toDyn True, toDyn (0 :: Int)]\n",
    "        , Trace $ S.fromList [toDyn False, toDyn (1 :: Int)]\n",
    "        , Trace $ S.fromList [toDyn True, toDyn (0 :: Int)]\n",
    "        , Trace $ S.fromList [toDyn False, toDyn (2 :: Int)]\n",
    "        , Trace $ S.fromList [toDyn True, toDyn (0 :: Int)]\n",
    "        , Trace $ S.fromList [toDyn False, toDyn (1 :: Int)]\n",
    "        , Trace $ S.fromList [toDyn False, toDyn (2 :: Int)]\n",
    "        , Trace $ S.fromList [toDyn False, toDyn (1 :: Int)]\n",
    "        ]\n",
    "-- foldM goes over all traces and updates the hyperparameters every time\n",
    "Just posterior = foldM (\\hyper obs -> getPosterior hyper obs exampleLk) prior observations\n",
    "posterior"
   ]
  },
  {
   "cell_type": "markdown",
   "id": "80ac8e13",
   "metadata": {},
   "source": [
    "Voila!"
   ]
  },
  {
   "cell_type": "code",
   "execution_count": null,
   "id": "ff49a7c6",
   "metadata": {},
   "outputs": [],
   "source": []
  }
 ],
 "metadata": {
  "@webio": {
   "lastCommId": null,
   "lastKernelId": null
  },
  "kernelspec": {
   "display_name": "Haskell",
   "language": "haskell",
   "name": "haskell"
  },
  "language_info": {
   "codemirror_mode": "ihaskell",
   "file_extension": ".hs",
   "mimetype": "text/x-haskell",
   "name": "haskell",
   "pygments_lexer": "Haskell",
   "version": "9.0.1"
  }
 },
 "nbformat": 4,
 "nbformat_minor": 5
}
